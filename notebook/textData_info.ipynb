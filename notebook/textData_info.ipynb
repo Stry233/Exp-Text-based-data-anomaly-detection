{
 "cells": [
  {
   "cell_type": "code",
   "execution_count": 21,
   "id": "56598f01-3dfa-43e7-a81d-599c02155923",
   "metadata": {
    "tags": []
   },
   "outputs": [
    {
     "data": {
      "text/html": [
       "<div>\n",
       "<style scoped>\n",
       "    .dataframe tbody tr th:only-of-type {\n",
       "        vertical-align: middle;\n",
       "    }\n",
       "\n",
       "    .dataframe tbody tr th {\n",
       "        vertical-align: top;\n",
       "    }\n",
       "\n",
       "    .dataframe thead th {\n",
       "        text-align: right;\n",
       "    }\n",
       "</style>\n",
       "<table border=\"1\" class=\"dataframe\">\n",
       "  <thead>\n",
       "    <tr style=\"text-align: right;\">\n",
       "      <th></th>\n",
       "      <th>text</th>\n",
       "      <th>label</th>\n",
       "    </tr>\n",
       "  </thead>\n",
       "  <tbody>\n",
       "    <tr>\n",
       "      <th>0</th>\n",
       "      <td>The football match was very exciting.</td>\n",
       "      <td>0</td>\n",
       "    </tr>\n",
       "    <tr>\n",
       "      <th>1</th>\n",
       "      <td>She scored a goal in the last minute of the game.</td>\n",
       "      <td>0</td>\n",
       "    </tr>\n",
       "    <tr>\n",
       "      <th>2</th>\n",
       "      <td>Basketball requires a lot of skill and teamwork.</td>\n",
       "      <td>0</td>\n",
       "    </tr>\n",
       "    <tr>\n",
       "      <th>3</th>\n",
       "      <td>He loves to go skiing in the winter.</td>\n",
       "      <td>0</td>\n",
       "    </tr>\n",
       "    <tr>\n",
       "      <th>4</th>\n",
       "      <td>Boxing is a sport that requires strength and s...</td>\n",
       "      <td>0</td>\n",
       "    </tr>\n",
       "    <tr>\n",
       "      <th>...</th>\n",
       "      <td>...</td>\n",
       "      <td>...</td>\n",
       "    </tr>\n",
       "    <tr>\n",
       "      <th>1710</th>\n",
       "      <td>The ultimate frisbee team made a successful zo...</td>\n",
       "      <td>0</td>\n",
       "    </tr>\n",
       "    <tr>\n",
       "      <th>1711</th>\n",
       "      <td>The volleyball player made a precise set for a...</td>\n",
       "      <td>0</td>\n",
       "    </tr>\n",
       "    <tr>\n",
       "      <th>1712</th>\n",
       "      <td>The wrestler won the match with a technical fall.</td>\n",
       "      <td>0</td>\n",
       "    </tr>\n",
       "    <tr>\n",
       "      <th>1713</th>\n",
       "      <td>The yachtsman navigated the boat to win the race.</td>\n",
       "      <td>0</td>\n",
       "    </tr>\n",
       "    <tr>\n",
       "      <th>1714</th>\n",
       "      <td>The zorb football team had a hilarious match.</td>\n",
       "      <td>0</td>\n",
       "    </tr>\n",
       "  </tbody>\n",
       "</table>\n",
       "<p>1715 rows × 2 columns</p>\n",
       "</div>"
      ],
      "text/plain": [
       "                                                   text  label\n",
       "0                 The football match was very exciting.      0\n",
       "1     She scored a goal in the last minute of the game.      0\n",
       "2      Basketball requires a lot of skill and teamwork.      0\n",
       "3                  He loves to go skiing in the winter.      0\n",
       "4     Boxing is a sport that requires strength and s...      0\n",
       "...                                                 ...    ...\n",
       "1710  The ultimate frisbee team made a successful zo...      0\n",
       "1711  The volleyball player made a precise set for a...      0\n",
       "1712  The wrestler won the match with a technical fall.      0\n",
       "1713  The yachtsman navigated the boat to win the race.      0\n",
       "1714      The zorb football team had a hilarious match.      0\n",
       "\n",
       "[1715 rows x 2 columns]"
      ]
     },
     "execution_count": 21,
     "metadata": {},
     "output_type": "execute_result"
    }
   ],
   "source": [
    "import pandas as pd\n",
    "import matplotlib.pyplot as plt\n",
    "\n",
    "# Load the CSV file\n",
    "# Replace 'your_file.csv' with the actual file name\n",
    "data = pd.read_csv('../data/text_demo/text_outliers_sport.csv')\n",
    "\n",
    "data\n"
   ]
  },
  {
   "cell_type": "code",
   "execution_count": 22,
   "id": "b1cfd45e-88a5-455f-a4f0-d8708e7b9724",
   "metadata": {
    "tags": []
   },
   "outputs": [
    {
     "name": "stdout",
     "output_type": "stream",
     "text": [
      "0    1177\n",
      "1     538\n",
      "Name: label, dtype: int64\n"
     ]
    },
    {
     "data": {
      "image/png": "[encoded data removed]",
      "text/plain": [
       "<Figure size 1000x600 with 1 Axes>"
      ]
     },
     "metadata": {},
     "output_type": "display_data"
    }
   ],
   "source": [
    "# Count the values for each label\n",
    "label_counts = data['label'].value_counts()\n",
    "\n",
    "# Print the counts\n",
    "print(label_counts)\n",
    "\n",
    "# Plot the counts\n",
    "plt.figure(figsize=(10,6))\n",
    "plt.bar(label_counts.index, label_counts.values, color=['blue', 'orange'])\n",
    "plt.xlabel('Label')\n",
    "plt.ylabel('Count')\n",
    "plt.title('Distribution of Labels')\n",
    "plt.show()"
   ]
  },
  {
   "cell_type": "markdown",
   "id": "4c440999-de95-4e65-8e3e-27320ff525ad",
   "metadata": {},
   "source": [
    "# Preprocess"
   ]
  },
  {
   "cell_type": "code",
   "execution_count": 23,
   "id": "8cdc5ddf-dfda-4f69-870d-bd74ad9b0933",
   "metadata": {
    "tags": []
   },
   "outputs": [],
   "source": [
    "import pandas as pd\n",
    "\n",
    "# Shuffle the DataFrame\n",
    "data = data.sample(frac=1).reset_index(drop=True)\n",
    "data.to_csv('../data/text_demo/shuffled_outliers_sport.csv', index=False)\n",
    "\n",
    "# Convert all text to lowercase\n",
    "data['text'] = data['text'].str.lower()\n",
    "\n",
    "# Remove SOS 'the' from all sentences\n",
    "data['text'] = data['text'].str.replace('the ', '')\n",
    "\n",
    "# Save the transformed data to a new csv file\n",
    "data.to_csv('../data/text_demo/processed_shuffled_outliers_sport.csv', index=False)\n"
   ]
  },
  {
   "cell_type": "code",
   "execution_count": null,
   "id": "61a4cdfe-0e2b-465d-afe4-1cd45cfe5735",
   "metadata": {},
   "outputs": [],
   "source": []
  }
 ],
 "metadata": {
  "kernelspec": {
   "display_name": "pytorch_GPU",
   "language": "python",
   "name": "pytorch_gpu"
  },
  "language_info": {
   "codemirror_mode": {
    "name": "ipython",
    "version": 3
   },
   "file_extension": ".py",
   "mimetype": "text/x-python",
   "name": "python",
   "nbconvert_exporter": "python",
   "pygments_lexer": "ipython3",
   "version": "3.8.16"
  }
 },
 "nbformat": 4,
 "nbformat_minor": 5
}
