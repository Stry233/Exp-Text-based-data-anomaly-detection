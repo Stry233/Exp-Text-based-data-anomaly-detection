{
 "cells": [
  {
   "cell_type": "code",
   "execution_count": null,
   "id": "dc63e31b-5ba0-464a-bb9a-50f2a850291b",
   "metadata": {},
   "outputs": [],
   "source": []
  },
  {
   "cell_type": "code",
   "execution_count": 1,
   "id": "c0da4140-d0bd-4dbe-80b3-90631610f630",
   "metadata": {
    "tags": []
   },
   "outputs": [
    {
     "name": "stderr",
     "output_type": "stream",
     "text": [
      "/home/yuetian/miniconda3/envs/pytorch_GPU/lib/python3.8/site-packages/tqdm/auto.py:21: TqdmWarning: IProgress not found. Please update jupyter and ipywidgets. See https://ipywidgets.readthedocs.io/en/stable/user_install.html\n",
      "  from .autonotebook import tqdm as notebook_tqdm\n"
     ]
    }
   ],
   "source": [
    "import torch\n",
    "from torch.utils.data import Dataset, Subset\n",
    "from torch.utils.data import DataLoader\n",
    "from torch import nn\n",
    "from transformers import RobertaTokenizer, RobertaModel\n",
    "import pandas as pd\n",
    "from sklearn.model_selection import train_test_split\n",
    "from sentence_transformers import SentenceTransformer"
   ]
  },
  {
   "cell_type": "code",
   "execution_count": 4,
   "id": "72bacf06-f470-47dc-afaf-0615fa6a306d",
   "metadata": {
    "tags": []
   },
   "outputs": [],
   "source": [
    "import torch\n",
    "from torch.utils.data import Dataset, Subset\n",
    "from torch.utils.data import DataLoader\n",
    "from torch import nn\n",
    "from transformers import RobertaTokenizer, RobertaModel\n",
    "import pandas as pd\n",
    "from sklearn.model_selection import train_test_split\n",
    "from sentence_transformers import SentenceTransformer\n",
    "\n",
    "\"\"\"\n",
    "# 从 sentence embedding. 2. 对比 k-means 效果 3. 看一看sentiment analyze效果\n",
    "# 3. 目的：没有label并且任务复杂继续数据清洗（entertaining, jokes）\n",
    "# 4. todo... text style detection?\n",
    "# 5. 区分是不是一个人所写的内容：plagirithm detection\n",
    "# 6. 还有什么别的方向？\n",
    "\n",
    "\"\"\"\n",
    "\n",
    "\n",
    "class TextDataset(Dataset):\n",
    "\n",
    "    def __init__(self, filepath, normal_class=0, method='tokenizer'):\n",
    "        super().__init__()\n",
    "        \n",
    "         # define device\n",
    "        self.device = torch.device(\"cuda\" if torch.cuda.is_available() else \"cpu\")\n",
    "\n",
    "        self.normal_classes = tuple([normal_class])\n",
    "        self.n_classes = 2  # 0: normal, 1: outlier\n",
    "\n",
    "        # Load your dataset\n",
    "        df = pd.read_csv(filepath)\n",
    "        df['label'] = df['label'].apply(lambda x: int(x in self.normal_classes))\n",
    "\n",
    "        # Tokenizer\n",
    "        self.tokenizer = RobertaTokenizer.from_pretrained('roberta-large')\n",
    "        self.model = RobertaModel.from_pretrained('roberta-large').to(self.device)\n",
    "        # Split the dataset into train and test\n",
    "        self.train_df, self.test_df = train_test_split(df, test_size=0.2, random_state=42)\n",
    "        \n",
    "        self.sentence_embedding_model = SentenceTransformer('all-MiniLM-L6-v2').to(self.device)\n",
    "        \n",
    "        # Create datasets\n",
    "        self.train_set = self.create_dataset(self.train_df, method=method)\n",
    "        self.test_set = self.create_dataset(self.test_df, method=method)\n",
    "\n",
    "\n",
    "    def create_dataset(self, df, method='tokenizer'):\n",
    "        # Convert texts and labels into tensors\n",
    "        texts = df['text'].tolist()\n",
    "        labels = df['label'].tolist()\n",
    "\n",
    "        if method == 'tokenizer':\n",
    "            # Tokenize the texts\n",
    "            inputs = self.tokenizer(texts, return_tensors='pt', padding=True, truncation=True, max_length=512)\n",
    "        elif method == 'model-embedding':\n",
    "            # Tokenize the texts and convert them to embeddings\n",
    "            inputs = self.tokenizer(texts, return_tensors='pt', padding=True, truncation=True, max_length=512).to(self.device)\n",
    "            with torch.no_grad():\n",
    "                inputs = {'input_ids': self.model(**inputs).last_hidden_state}\n",
    "        elif method == 'sentence-embedding':\n",
    "            # Convert sentences to embeddings\n",
    "            with torch.no_grad():\n",
    "                inputs = self.sentence_embedding_model.encode(texts, convert_to_tensor=True)\n",
    "                inputs = {'input_ids': inputs}\n",
    "        else:\n",
    "            raise ValueError('Invalid method: choose either \"tokenizer\", \"model-embedding\" or \"sentence-embedding\"')\n",
    "\n",
    "        # Return a dictionary with inputs and labels\n",
    "        dataset = {'inputs': inputs, 'labels': torch.tensor(labels).to(self.device)}\n",
    "        return dataset\n",
    "\n",
    "    def __getitem__(self, index):\n",
    "        inputs = {key: val[index] for key, val in self.train_set['inputs'].items()}\n",
    "        label = self.train_set['labels'][index]\n",
    "        return inputs, label, index\n",
    "\n",
    "    def __len__(self):\n",
    "        return len(self.train_set['inputs']['input_ids'])\n"
   ]
  },
  {
   "cell_type": "code",
   "execution_count": 5,
   "id": "a598e149-c1cf-4de5-9914-15b43977b923",
   "metadata": {},
   "outputs": [
    {
     "name": "stderr",
     "output_type": "stream",
     "text": [
      "Some weights of the model checkpoint at roberta-large were not used when initializing RobertaModel: ['lm_head.layer_norm.bias', 'lm_head.layer_norm.weight', 'lm_head.decoder.weight', 'lm_head.dense.bias', 'lm_head.bias', 'lm_head.dense.weight']\n",
      "- This IS expected if you are initializing RobertaModel from the checkpoint of a model trained on another task or with another architecture (e.g. initializing a BertForSequenceClassification model from a BertForPreTraining model).\n",
      "- This IS NOT expected if you are initializing RobertaModel from the checkpoint of a model that you expect to be exactly identical (initializing a BertForSequenceClassification model from a BertForSequenceClassification model).\n"
     ]
    }
   ],
   "source": [
    "# Instantiate the class with the file path of your dataset\n",
    "dataset_sentence_embedding = TextDataset(filepath='../data/text_demo/processed_shuffled_outliers_sport.csv', normal_class=0, method='sentence-embedding')"
   ]
  },
  {
   "cell_type": "code",
   "execution_count": 15,
   "id": "e292cab8-e262-45e6-a21e-a0b74c387009",
   "metadata": {
    "tags": []
   },
   "outputs": [
    {
     "data": {
      "text/plain": [
       "torch.Size([384])"
      ]
     },
     "execution_count": 15,
     "metadata": {},
     "output_type": "execute_result"
    }
   ],
   "source": [
    "dataset_sentence_embedding[6][0]['input_ids'].shape"
   ]
  },
  {
   "cell_type": "code",
   "execution_count": 7,
   "id": "f0bd23b1-c8bd-4fe5-ab7c-8dad540acf0f",
   "metadata": {
    "tags": []
   },
   "outputs": [
    {
     "name": "stderr",
     "output_type": "stream",
     "text": [
      "Some weights of the model checkpoint at roberta-large were not used when initializing RobertaModel: ['lm_head.layer_norm.bias', 'lm_head.layer_norm.weight', 'lm_head.decoder.weight', 'lm_head.dense.bias', 'lm_head.bias', 'lm_head.dense.weight']\n",
      "- This IS expected if you are initializing RobertaModel from the checkpoint of a model trained on another task or with another architecture (e.g. initializing a BertForSequenceClassification model from a BertForPreTraining model).\n",
      "- This IS NOT expected if you are initializing RobertaModel from the checkpoint of a model that you expect to be exactly identical (initializing a BertForSequenceClassification model from a BertForSequenceClassification model).\n"
     ]
    }
   ],
   "source": [
    "dataset_model_embedding = TextDataset(filepath='../data/text_demo/processed_shuffled_outliers_sport.csv', normal_class=0, method='model-embedding')"
   ]
  },
  {
   "cell_type": "code",
   "execution_count": 21,
   "id": "a9235ad4-bc33-4ab8-b9d8-cf695c620fe2",
   "metadata": {
    "tags": []
   },
   "outputs": [
    {
     "data": {
      "text/plain": [
       "torch.Size([27, 1024])"
      ]
     },
     "execution_count": 21,
     "metadata": {},
     "output_type": "execute_result"
    }
   ],
   "source": [
    "dataset_model_embedding[7][0]['input_ids'].shape"
   ]
  },
  {
   "cell_type": "code",
   "execution_count": null,
   "id": "64490e46-0eab-402d-97d9-c28169907719",
   "metadata": {},
   "outputs": [],
   "source": []
  }
 ],
 "metadata": {
  "kernelspec": {
   "display_name": "pytorch_GPU",
   "language": "python",
   "name": "pytorch_gpu"
  },
  "language_info": {
   "codemirror_mode": {
    "name": "ipython",
    "version": 3
   },
   "file_extension": ".py",
   "mimetype": "text/x-python",
   "name": "python",
   "nbconvert_exporter": "python",
   "pygments_lexer": "ipython3",
   "version": "3.8.16"
  }
 },
 "nbformat": 4,
 "nbformat_minor": 5
}
